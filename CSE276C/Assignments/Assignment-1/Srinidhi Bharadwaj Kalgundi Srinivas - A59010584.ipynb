{
 "cells": [
  {
   "cell_type": "markdown",
   "id": "aedd9983",
   "metadata": {},
   "source": [
    "# Homework - 1\n",
    "# Srinidhi Bharadwaj Kalgundi Srinivas\n",
    "# A59010584\n",
    "\n"
   ]
  },
  {
   "cell_type": "code",
   "execution_count": 40,
   "id": "1f0c714d",
   "metadata": {},
   "outputs": [],
   "source": [
    "import numpy as np"
   ]
  },
  {
   "cell_type": "markdown",
   "id": "2e301b96",
   "metadata": {},
   "source": [
    "# Problem 1"
   ]
  },
  {
   "cell_type": "code",
   "execution_count": 41,
   "id": "18bad1a7",
   "metadata": {},
   "outputs": [],
   "source": [
    "# Matrix multiplication funciton\n",
    "def multiply_matrix(a, b):\n",
    "    c = np.zeros((a.shape[1], b.shape[0]))\n",
    "    if a.shape[1] != b.shape[0]:\n",
    "        return 0 \n",
    "    for i in range(a.shape[0]):\n",
    "        row = a[i]\n",
    "        for j in range(b.shape[1]):\n",
    "            col = b[:,j]\n",
    "            sum = 0\n",
    "            for k in range(row.shape[0]):\n",
    "                sum += row[k]*col[k]\n",
    "            c[i, j] = sum  \n",
    "    return c\n",
    "            \n",
    "            "
   ]
  },
  {
   "cell_type": "markdown",
   "id": "915bfd59",
   "metadata": {},
   "source": [
    "## Algorithm used for LDU decomposition\n",
    "\n",
    "- Goal of the algorithm is to start with A = LDU + B (where L, D, U are zero matrices to start with) and iteratively find L, D, U such that B turns out to be a zero matrix\n",
    "- Column 'c' of the L matrix is calculated by the column of B that contains the element\n",
    "- Row 'r' of the U matrix is calculated by the row of B that contains the element\n",
    "- Diagonal entry is calculated as (1/element)\n",
    "- New B is calculated as B = A - LDU\n",
    "- Above steps are repeated for all the elements\n",
    "\n",
    "Note: As a verification step, L, D and U matrices are computed using the above steps and the product LDU is subtracted from the original matrix A to obtain and resultant zero matrix"
   ]
  },
  {
   "cell_type": "code",
   "execution_count": 42,
   "id": "44ab02a1",
   "metadata": {},
   "outputs": [],
   "source": [
    "def LDU_Decomposition(A):\n",
    "    '''This method implements the LDU decomposition of \n",
    "    the input matrix A'''\n",
    "    \n",
    "    #Creating a temporary copy as python list copy is referenced\n",
    "    B = A.copy()\n",
    "    #print(A.shape)\n",
    "    \n",
    "    matrix_size = A.shape[0]\n",
    "    \n",
    "    #Initializing L, D, U matrices with size of the input matrix\n",
    "    L = np.zeros((matrix_size, matrix_size))\n",
    "    U = np.zeros((matrix_size, matrix_size))\n",
    "    D = np.zeros((matrix_size, matrix_size))\n",
    "    \n",
    "    #Looping through individual elements of the matrix\n",
    "    for i in range(A.shape[0]):\n",
    "        for j in range(A.shape[1]):\n",
    "            if B[i, j] == 0: #No update needed if the value is 0, essential to avoid divide by 0 error as well\n",
    "                continue\n",
    "            L[:,j] = B[:,j]  #Assign the column of B to L\n",
    "            U[i] = B[i]      #Assign the row of B to R\n",
    "            D[i, i] = 1/B[i, j] #Get the diagonal element\n",
    "            C = multiply_matrix(D, U) #Intermediate step to update B as B = A - LDU\n",
    "            B = A - multiply_matrix(L, C)\n",
    "    \n",
    "    return L, D, U"
   ]
  },
  {
   "cell_type": "code",
   "execution_count": 43,
   "id": "240d02b9",
   "metadata": {},
   "outputs": [
    {
     "name": "stdout",
     "output_type": "stream",
     "text": [
      "[[0. 0. 0.]\n",
      " [0. 0. 0.]\n",
      " [0. 0. 0.]]\n"
     ]
    }
   ],
   "source": [
    "#Example vector of size 3x3\n",
    "A = np.array([[-7,4,-1],[-1,-6,1],[1,0,0]])\n",
    "lower, diag, upper = LDU_Decomposition(A)\n",
    "\n",
    "#Verfication to prove A = LDU -> Purely for verification purposes\n",
    "\n",
    "#Calculate LDU\n",
    "C = multiply_matrix(diag, upper)\n",
    "LDU = multiply_matrix(lower, C)\n",
    "\n",
    "#Subtract LDU from A to obtain a matrix with zero elements\n",
    "result = A - LDU\n",
    "print(result)"
   ]
  },
  {
   "cell_type": "code",
   "execution_count": null,
   "id": "7cb963df",
   "metadata": {},
   "outputs": [],
   "source": []
  },
  {
   "cell_type": "markdown",
   "id": "59ba5ed2",
   "metadata": {},
   "source": [
    "# Problem 2"
   ]
  },
  {
   "cell_type": "code",
   "execution_count": 44,
   "id": "55a5ead7",
   "metadata": {},
   "outputs": [
    {
     "name": "stdout",
     "output_type": "stream",
     "text": [
      "Lower diagonal matrix from LDU: \n",
      "[[ 4.          0.          0.        ]\n",
      " [ 3.         -3.25        0.        ]\n",
      " [ 2.         -1.5        -6.46153846]]\n",
      "Diagonal matrix from LDU: \n",
      "[[ 0.25        0.          0.        ]\n",
      " [ 0.         -0.30769231  0.        ]\n",
      " [ 0.          0.         -0.1547619 ]]\n",
      "Upper diagonal matrix from LDU: \n",
      "[[ 4.          7.          0.        ]\n",
      " [ 0.         -3.25        1.        ]\n",
      " [ 0.          0.         -6.46153846]]\n",
      "Matrices from SVD Decomposition are: \n",
      "[[ 0.83108771  0.36392168 -0.42054041]\n",
      " [ 0.3206405   0.30429769  0.89699085]\n",
      " [ 0.45440389 -0.88032036  0.13621004]]\n",
      "\n",
      "[9.33057832 5.78987054 1.55489788]\n",
      "\n",
      "[[ 0.55678008  0.7896298  -0.25783856]\n",
      " [ 0.10500046  0.24100823  0.96482638]\n",
      " [ 0.82399688 -0.56426927  0.05127709]]\n"
     ]
    }
   ],
   "source": [
    "# a)\n",
    "\n",
    "A1 = np.array([[4, 7, 0], [3, 2, 1], [2, 2, -6]])\n",
    "\n",
    "lower, diag, upper = LDU_Decomposition(A1)\n",
    "\n",
    "u, s, vd = np.linalg.svd(A1, full_matrices=True)\n",
    "\n",
    "print(\"Lower diagonal matrix from LDU: \")\n",
    "print(lower)\n",
    "print(\"Diagonal matrix from LDU: \")\n",
    "print(diag)\n",
    "print(\"Upper diagonal matrix from LDU: \")\n",
    "print(upper)\n",
    "\n",
    "print(\"Matrices from SVD Decomposition are: \")\n",
    "print(u)\n",
    "print(\"\")\n",
    "print(s)\n",
    "print(\"\")\n",
    "print(vd)"
   ]
  },
  {
   "cell_type": "code",
   "execution_count": 45,
   "id": "1a449300",
   "metadata": {},
   "outputs": [
    {
     "name": "stdout",
     "output_type": "stream",
     "text": [
      "Lower diagonal matrix from LDU: \n",
      "[[ 1.  0.  0.  0.  0.]\n",
      " [ 0.  0.  1.  1.  0.]\n",
      " [ 0.  1. -1.  0.  0.]\n",
      " [ 0.  1. -1. -1.  0.]\n",
      " [ 1.  0.  0.  0. -1.]]\n",
      "Diagonal matrix from LDU: \n",
      "[[ 1.  0.  0.  0.  0.]\n",
      " [ 0.  1.  0.  0.  0.]\n",
      " [ 0.  0. -1.  0.  0.]\n",
      " [ 0.  0.  0. -1.  0.]\n",
      " [ 0.  0.  0.  0. -1.]]\n",
      "Upper diagonal matrix from LDU: \n",
      "[[ 1.  0.  0.  0.  1.]\n",
      " [ 0.  0.  1.  0.  0.]\n",
      " [ 0.  1. -1.  1.  0.]\n",
      " [ 0.  0.  0. -1.  0.]\n",
      " [ 0.  0.  0.  0. -1.]]\n",
      "Matrices from SVD Decomposition are: \n",
      "[[-0.85065081  0.          0.         -0.52573111  0.        ]\n",
      " [ 0.          0.         -1.          0.          0.        ]\n",
      " [ 0.         -0.85065081  0.          0.         -0.52573111]\n",
      " [ 0.         -0.52573111  0.          0.          0.85065081]\n",
      " [-0.52573111  0.          0.          0.85065081  0.        ]]\n",
      "\n",
      "[1.61803399 1.61803399 1.         0.61803399 0.61803399]\n",
      "\n",
      "[[-0.85065081  0.          0.          0.         -0.52573111]\n",
      " [-0.         -0.85065081 -0.         -0.52573111  0.        ]\n",
      " [-0.         -0.         -1.         -0.          0.        ]\n",
      " [ 0.52573111  0.          0.          0.         -0.85065081]\n",
      " [ 0.          0.52573111  0.         -0.85065081  0.        ]]\n"
     ]
    }
   ],
   "source": [
    "# b)\n",
    "\n",
    "A2 = np.array([[1,0,0,0,1],\n",
    "             [0,0,1,0,0],\n",
    "             [0,1,0,1,0],\n",
    "             [0,1,0,0,0],\n",
    "             [1,0,0,0,0]])\n",
    "lower, diag, upper = LDU_Decomposition(A2)\n",
    "\n",
    "u, s, vd = np.linalg.svd(A2, full_matrices=True)\n",
    "\n",
    "print(\"Lower diagonal matrix from LDU: \")\n",
    "print(lower)\n",
    "print(\"Diagonal matrix from LDU: \")\n",
    "print(diag)\n",
    "print(\"Upper diagonal matrix from LDU: \")\n",
    "print(upper)\n",
    "\n",
    "print(\"Matrices from SVD Decomposition are: \")\n",
    "print(u)\n",
    "print(\"\")\n",
    "print(s)\n",
    "print(\"\")\n",
    "print(vd)"
   ]
  },
  {
   "cell_type": "code",
   "execution_count": 46,
   "id": "ad38f277",
   "metadata": {},
   "outputs": [
    {
     "name": "stdout",
     "output_type": "stream",
     "text": [
      "Lower diagonal matrix from LDU: \n",
      "[[ 2.   0.   0. ]\n",
      " [ 3.  -1.   0. ]\n",
      " [ 1.   0.   2.5]]\n",
      "Diagonal matrix from LDU: \n",
      "[[ 0.5  0.   0. ]\n",
      " [ 0.  -1.   0. ]\n",
      " [ 0.   0.   0.4]]\n",
      "Upper diagonal matrix from LDU: \n",
      "[[ 2.   2.   5. ]\n",
      " [ 0.  -1.  -2.5]\n",
      " [ 0.   0.   2.5]]\n",
      "Matrices from SVD Decomposition are: \n",
      "[[-0.58592436 -0.04442838 -0.80914693]\n",
      " [-0.62305157 -0.61376658  0.48486836]\n",
      " [-0.51816926  0.78823645  0.33193962]]\n",
      "\n",
      "[9.79103061 1.4162264  0.36058604]\n",
      "\n",
      "[[-0.36351359 -0.29987866 -0.88200378]\n",
      " [-0.8063118  -0.37293011  0.45911264]\n",
      " [ 0.46660385 -0.87806373  0.10623054]]\n"
     ]
    }
   ],
   "source": [
    "# c)\n",
    "\n",
    "A3 = np.array([[2,2,5],\n",
    "              [3,2,5],\n",
    "              [1,1,5]])\n",
    "\n",
    "lower, diag, upper = LDU_Decomposition(A3)\n",
    "\n",
    "u, s, vd = np.linalg.svd(A3, full_matrices=True)\n",
    "\n",
    "print(\"Lower diagonal matrix from LDU: \")\n",
    "print(lower)\n",
    "print(\"Diagonal matrix from LDU: \")\n",
    "print(diag)\n",
    "print(\"Upper diagonal matrix from LDU: \")\n",
    "print(upper)\n",
    "\n",
    "print(\"Matrices from SVD Decomposition are: \")\n",
    "print(u)\n",
    "print(\"\")\n",
    "print(s)\n",
    "print(\"\")\n",
    "print(vd)"
   ]
  },
  {
   "cell_type": "code",
   "execution_count": null,
   "id": "6173bf2e",
   "metadata": {},
   "outputs": [],
   "source": []
  },
  {
   "cell_type": "markdown",
   "id": "8ee9f089",
   "metadata": {},
   "source": [
    "# Problem 3 : SVD interpretation of system of equations with no solutions\n",
    "\n",
    "### Equations b and c do not have any solutions\n",
    "\n",
    "SVD can be used to analyze the system of equations that have no solutions.\n",
    "The eigen values in the 's' matrix below code represent the rank of the matrix. If any of these eigen values are zero or very small (~0), inverse of the matrix A will not exist and hence the system will not be solvable.\n",
    "\n",
    "Note: Row reduction method has been handwritten and the PDF is attached in gradescope"
   ]
  },
  {
   "cell_type": "code",
   "execution_count": 115,
   "id": "2e598fc1",
   "metadata": {},
   "outputs": [
    {
     "name": "stdout",
     "output_type": "stream",
     "text": [
      "Solution is : \n",
      " [[-30.]\n",
      " [ 10.]\n",
      " [ 20.]]\n"
     ]
    }
   ],
   "source": [
    "# Problem 3a, to show that a system with solution is full rank (no zero or very small eigen value)\n",
    "A = np.array([[2, 1, 3],\n",
    "            [2, 1, 2],\n",
    "            [5, 5, 5]])\n",
    "b = np.array([[10], [-10], [0]])\n",
    "u, s, vd = np.linalg.svd(A, full_matrices=False)\n",
    "soln = vd.T.dot(np.diag(1/s)).dot(u.T).dot(b)\n",
    "print(\"Solution is : \\n\", soln)"
   ]
  },
  {
   "cell_type": "code",
   "execution_count": 111,
   "id": "4bb70eb6",
   "metadata": {},
   "outputs": [
    {
     "name": "stdout",
     "output_type": "stream",
     "text": [
      "[[-0.9736016   0.16057442 -0.16222142]\n",
      " [-0.18682932 -0.96890609  0.16222142]\n",
      " [-0.13112871  0.18824675  0.97332853]] [1.65315460e+01 6.05871178e+00 1.53596605e-16] [[-0.50168327 -0.86297667  0.05987626]\n",
      " [-0.07674405  0.11334475  0.99058736]\n",
      " [-0.86164044  0.49236596 -0.12309149]]\n"
     ]
    },
    {
     "data": {
      "text/plain": [
       "array([[-4.55011804e+15],\n",
       "       [ 2.60006745e+15],\n",
       "       [-6.50016863e+14]])"
      ]
     },
     "execution_count": 111,
     "metadata": {},
     "output_type": "execute_result"
    }
   ],
   "source": [
    "# Problem 3b\n",
    "A = np.array([[8, 14, 0],\n",
    "            [2, 2, -6],\n",
    "            [1, 2, 1]])\n",
    "b = np.array([[6], [5], [1]])\n",
    "u, s, vd = np.linalg.svd(A, full_matrices=True)\n",
    "\n",
    "#The value in the third index of the s matrix is very small (6.88359513e-17) and hence the system has no solution\n",
    "print(u, s, vd)\n",
    "np.linalg.inv(u @ np.diag(s) @ vd) @ b\n",
    "soln = vd.T.dot(np.diag(1/s)).dot(u.T).dot(b)\n",
    "print(\"Solution is : \\n\", soln)"
   ]
  },
  {
   "cell_type": "code",
   "execution_count": 116,
   "id": "a7ed2911",
   "metadata": {},
   "outputs": [
    {
     "name": "stdout",
     "output_type": "stream",
     "text": [
      "[[-0.84780042  0.42857143 -0.31234752]\n",
      " [-0.49083182 -0.85714286  0.15617376]\n",
      " [-0.20079484  0.28571429  0.93704257]] [9.05538514e+00 5.74456265e+00 6.88359513e-17] [[-0.50507627 -0.80812204  0.30304576]\n",
      " [ 0.04973647  0.32328708  0.94499299]\n",
      " [ 0.86164044 -0.49236596  0.12309149]]\n",
      "Solution is : \n",
      " [[-4. ]\n",
      " [ 0. ]\n",
      " [ 3.5]]\n"
     ]
    }
   ],
   "source": [
    "# Problem 3c\n",
    "A = np.array([[4, 7, 0],\n",
    "            [2, 2, -6],\n",
    "            [1, 2, 1]])\n",
    "b = np.array([[18], [-12], [8]])\n",
    "\n",
    "u, s, vd = np.linalg.svd(A, full_matrices=True)\n",
    "\n",
    "#The value in the third index of the s matrix is very small (6.88359513e-17) and matrix A is of rank 2 resulting in\n",
    "#infinitely many solutions\n",
    "print(u, s, vd)\n",
    "soln = vd.T.dot(np.diag(1/s)).dot(u.T).dot(b)\n",
    "print(\"Solution is : \\n\", soln)"
   ]
  },
  {
   "cell_type": "code",
   "execution_count": null,
   "id": "9254801c",
   "metadata": {},
   "outputs": [],
   "source": []
  }
 ],
 "metadata": {
  "kernelspec": {
   "display_name": "Python 3",
   "language": "python",
   "name": "python3"
  },
  "language_info": {
   "codemirror_mode": {
    "name": "ipython",
    "version": 3
   },
   "file_extension": ".py",
   "mimetype": "text/x-python",
   "name": "python",
   "nbconvert_exporter": "python",
   "pygments_lexer": "ipython3",
   "version": "3.6.13"
  }
 },
 "nbformat": 4,
 "nbformat_minor": 5
}
