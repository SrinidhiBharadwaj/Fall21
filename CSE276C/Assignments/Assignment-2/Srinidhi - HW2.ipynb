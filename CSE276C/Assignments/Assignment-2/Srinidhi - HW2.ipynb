{
 "cells": [
  {
   "cell_type": "code",
   "execution_count": 73,
   "id": "be6cb2c2",
   "metadata": {},
   "outputs": [],
   "source": [
    "import numpy as np"
   ]
  },
  {
   "cell_type": "markdown",
   "id": "482d8627",
   "metadata": {},
   "source": [
    "# Problem 4"
   ]
  },
  {
   "cell_type": "code",
   "execution_count": 74,
   "id": "771d99c6",
   "metadata": {},
   "outputs": [],
   "source": [
    "# Interpolation for the given x and y\n",
    "def lagrange_interpolation(x):\n",
    "    ret_val = 0\n",
    "    \n",
    "    ret_val = (((1/6325977.5) * (x-108)*(x-149.5)*(x-227)*(x-778))\n",
    "               -((1/736269.4)*((x-58)*(x-149.5)*(x-227)*(x-778)))\n",
    "               +((1/506321.7)*((x-58)*(x-108)*(x-227)*(x-778)))\n",
    "               -((1/1250058.2)*((x-58)*(x-108)*(x-149.5)*(x-778)))\n",
    "               +((1/38554773.2)*((x-58)*(x-108)*(x-149.5)*(x-227))))\n",
    "    return ret_val"
   ]
  },
  {
   "cell_type": "code",
   "execution_count": 75,
   "id": "1e65d8a1",
   "metadata": {},
   "outputs": [
    {
     "name": "stdout",
     "output_type": "stream",
     "text": [
      "58 = 88.0\n",
      "108 = 224.7\n",
      "149.5 = 365.3\n",
      "227 = 687.0\n",
      "778 = 4332.97\n"
     ]
    }
   ],
   "source": [
    "# Verification of the function for the given table of x and y\n",
    "x = [58, 108, 149.5, 227, 778]\n",
    "for idx, val in enumerate(x):\n",
    "    y = lagrange_interpolation(val)\n",
    "    y = round(y, 2)\n",
    "    print(str(val) + ' = ' + str(y))"
   ]
  },
  {
   "cell_type": "markdown",
   "id": "e9b2e4d6",
   "metadata": {},
   "source": [
    "# Problem 3"
   ]
  },
  {
   "cell_type": "code",
   "execution_count": 76,
   "id": "2d738c09",
   "metadata": {},
   "outputs": [
    {
     "data": {
      "text/plain": [
       "(-10.0, 10.0)"
      ]
     },
     "execution_count": 76,
     "metadata": {},
     "output_type": "execute_result"
    },
    {
     "data": {
      "image/png": "[encoded data removed]",
      "text/plain": [
       "<Figure size 432x288 with 1 Axes>"
      ]
     },
     "metadata": {
      "needs_background": "light"
     },
     "output_type": "display_data"
    }
   ],
   "source": [
    "#Plotting the graph for reference\n",
    "import numpy as np\n",
    "import matplotlib.pyplot as plt\n",
    "x = np.linspace(-4 * np.pi, 4 * np.pi, 1000)\n",
    "plt.plot(x, np.tan(x)-x)\n",
    "plt.ylim(-10, 10)\n",
    "plt.xlim(-10, 10)"
   ]
  },
  {
   "cell_type": "code",
   "execution_count": 77,
   "id": "faa243d2",
   "metadata": {},
   "outputs": [],
   "source": [
    "# Given function in the problem (tanx - x)\n",
    "def tan_x(x):\n",
    "    return np.tan(x) - x"
   ]
  },
  {
   "cell_type": "code",
   "execution_count": 78,
   "id": "cb76b75a",
   "metadata": {},
   "outputs": [],
   "source": [
    "# Derivative of (tanx - x = sec^2(x) - 1)\n",
    "def tan_x_derivative(x):\n",
    "    sec = 1/np.cos(x)\n",
    "    return sec**2 - 1"
   ]
  },
  {
   "cell_type": "code",
   "execution_count": 79,
   "id": "cd67d0c3",
   "metadata": {},
   "outputs": [],
   "source": [
    "def Newton_RootFinding(x):\n",
    "    new_val = 0\n",
    "    old_val = round(x, 5)\n",
    "    for i in range(5):\n",
    "        fx = round(tan_x(old_val), 5) #Value of the function\n",
    "        dfx = round(tan_x_derivative(old_val), 5) #Value of the derivative\n",
    "        new_val = old_val - (fx/dfx) #Updated value (xn = xn+1 * (f(xn)/f'(xn)))\n",
    "        new_val = round(new_val, 5) #Roundign off the value to 5 decimal places\n",
    "        print(old_val, new_val)\n",
    "        old_val = new_val   "
   ]
  },
  {
   "cell_type": "code",
   "execution_count": 80,
   "id": "9fe7ede3",
   "metadata": {},
   "outputs": [
    {
     "name": "stdout",
     "output_type": "stream",
     "text": [
      "4.4 4.53598\n",
      "4.53598 4.50186\n",
      "4.50186 4.49375\n",
      "4.49375 4.49341\n",
      "4.49341 4.49341\n"
     ]
    }
   ],
   "source": [
    "# For an intitial value of 4.4\n",
    "x = 4.4\n",
    "Newton_RootFinding(x)"
   ]
  },
  {
   "cell_type": "code",
   "execution_count": 81,
   "id": "50688f4d",
   "metadata": {},
   "outputs": [
    {
     "name": "stdout",
     "output_type": "stream",
     "text": [
      "7.7 7.73028\n",
      "7.73028 7.72545\n",
      "7.72545 7.72525\n",
      "7.72525 7.72525\n",
      "7.72525 7.72525\n"
     ]
    }
   ],
   "source": [
    "# For an intitial value of 7.7\n",
    "x = 7.7\n",
    "Newton_RootFinding(x)"
   ]
  },
  {
   "cell_type": "markdown",
   "id": "4dcbe171",
   "metadata": {},
   "source": [
    "# Problem 5"
   ]
  },
  {
   "cell_type": "code",
   "execution_count": 82,
   "id": "df3c1ad5",
   "metadata": {},
   "outputs": [],
   "source": [
    "def alices_internet(x):\n",
    "    return round((np.exp(x) - 4*x + 1), 4) #Accurate root position becomes finer as we consider more decimal places"
   ]
  },
  {
   "cell_type": "code",
   "execution_count": 83,
   "id": "88e53b1a",
   "metadata": {},
   "outputs": [],
   "source": [
    "# Method to calculate root using bisection method\n",
    "# This is a helper method added to calculate the root accurately for the given\n",
    "# provided the decimal is rounded off to 4 places \n",
    "# This function does not scale really well for other f(x)'s\n",
    "def bisection_method(lower, upper):\n",
    "    u = alices_internet(upper)\n",
    "    l = alices_internet(lower)\n",
    "    if u == 0 or l == 0:\n",
    "        print(\"Root is at: \", upper if u == 0 else lower)\n",
    "    if ((u * l) < 0):\n",
    "        print(lower, upper)\n",
    "        bisection_method((upper+lower)/ 2, upper) # Recursive call with upper half\n",
    "        bisection_method(lower, (upper+lower)/2)  # Recursive call with lower half\n",
    "    else:\n",
    "        return"
   ]
  },
  {
   "cell_type": "code",
   "execution_count": 84,
   "id": "3f41ee17",
   "metadata": {},
   "outputs": [
    {
     "name": "stdout",
     "output_type": "stream",
     "text": [
      "0 1\n",
      "0.5 1\n",
      "0.75 1\n",
      "0.75 0.875\n",
      "0.8125 0.875\n",
      "0.8125 0.84375\n",
      "0.8125 0.828125\n",
      "0.8125 0.8203125\n",
      "0.8125 0.81640625\n",
      "0.814453125 0.81640625\n",
      "0.814453125 0.8154296875\n",
      "0.814453125 0.81494140625\n",
      "0.814453125 0.814697265625\n",
      "0.814453125 0.8145751953125\n",
      "Root is at:  0.81451416015625\n",
      "Root is at:  0.81451416015625\n"
     ]
    }
   ],
   "source": [
    "bisection_method(0, 1)"
   ]
  },
  {
   "cell_type": "code",
   "execution_count": null,
   "id": "79357770",
   "metadata": {},
   "outputs": [],
   "source": []
  }
 ],
 "metadata": {
  "kernelspec": {
   "display_name": "Python 3",
   "language": "python",
   "name": "python3"
  },
  "language_info": {
   "codemirror_mode": {
    "name": "ipython",
    "version": 3
   },
   "file_extension": ".py",
   "mimetype": "text/x-python",
   "name": "python",
   "nbconvert_exporter": "python",
   "pygments_lexer": "ipython3",
   "version": "3.6.13"
  }
 },
 "nbformat": 4,
 "nbformat_minor": 5
}
